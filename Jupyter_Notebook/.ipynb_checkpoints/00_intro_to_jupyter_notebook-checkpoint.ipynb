{
 "cells": [
  {
   "cell_type": "markdown",
   "id": "62e1260c",
   "metadata": {},
   "source": [
    "# python ka chilla\n",
    "## how to use jupyter notebook\n",
    "## Basics of python"
   ]
  },
  {
   "cell_type": "markdown",
   "id": "04d6fd37",
   "metadata": {},
   "source": [
    "# 1- My first program in python"
   ]
  },
  {
   "cell_type": "code",
   "execution_count": 1,
   "id": "d4b35d12",
   "metadata": {},
   "outputs": [
    {
     "name": "stdout",
     "output_type": "stream",
     "text": [
      "5\n",
      "Hello WORLD FROM Waqas Ahmed Khawaja\n",
      "Learnning python with ammar 19-1-2022 1:45AM\n"
     ]
    }
   ],
   "source": [
    "print(2+3)\n",
    "print('Hello WORLD FROM Waqas Ahmed Khawaja')\n",
    "print(\"Learnning python with ammar 19-1-2022 1:45AM\")"
   ]
  },
  {
   "cell_type": "markdown",
   "id": "c3c7dd18",
   "metadata": {},
   "source": [
    "# 2- Operators"
   ]
  },
  {
   "cell_type": "code",
   "execution_count": 2,
   "id": "c52a36af",
   "metadata": {},
   "outputs": [
    {
     "name": "stdout",
     "output_type": "stream",
     "text": [
      "5\n",
      "-1\n",
      "6\n",
      "2.0\n",
      "2\n",
      "1\n",
      "8\n",
      "512.0\n"
     ]
    }
   ],
   "source": [
    "print(2+3)\n",
    "print(2-3)\n",
    "print(2*3)\n",
    "print(6/3)\n",
    "print(5%3)\n",
    "print(5//3)\n",
    "print(2**3)\n",
    "\n",
    "print(2**10/2)"
   ]
  },
  {
   "cell_type": "markdown",
   "id": "ce1e930d",
   "metadata": {},
   "source": [
    "# **3- Strings**"
   ]
  },
  {
   "cell_type": "code",
   "execution_count": 3,
   "id": "cc141dc8",
   "metadata": {},
   "outputs": [
    {
     "name": "stdout",
     "output_type": "stream",
     "text": [
      "Hello WORLD FROM Waqas Ahmed Khawaja\n",
      "Learnning python with ammar 19-1-2022 1:45AM\n"
     ]
    }
   ],
   "source": [
    "print('Hello WORLD FROM Waqas Ahmed Khawaja')\n",
    "print(\"Learnning python with ammar 19-1-2022 1:45AM\") #ctrl+/"
   ]
  },
  {
   "cell_type": "code",
   "execution_count": 4,
   "id": "69f68e23",
   "metadata": {},
   "outputs": [
    {
     "name": "stdout",
     "output_type": "stream",
     "text": [
      "Test for Single Quotes\n",
      "Test for double quotes\n",
      "\n",
      "      TEST  \n",
      "      FOR TRIPLE QUOTES\n",
      "What's Up?\n",
      "My answer is \"I am Good\"\n"
     ]
    }
   ],
   "source": [
    "print('Test for Single Quotes')\n",
    "print(\"Test for double quotes\")\n",
    "print(\"\"\"\n",
    "      TEST  \n",
    "      FOR TRIPLE QUOTES\"\"\")\n",
    "\n",
    "print(\"What's Up?\")\n",
    "print('''My answer is \"I am Good\"''')"
   ]
  },
  {
   "cell_type": "markdown",
   "id": "0e10878c",
   "metadata": {},
   "source": [
    "# 04- Variables\n",
    "**Object containing specific values**"
   ]
  },
  {
   "cell_type": "code",
   "execution_count": 5,
   "id": "11816e51",
   "metadata": {},
   "outputs": [
    {
     "name": "stdout",
     "output_type": "stream",
     "text": [
      "5\n",
      "WE ARE learning python with ammar\n",
      "10\n",
      "<class 'int'>\n",
      "<class 'str'>\n",
      "Mangoes\n"
     ]
    }
   ],
   "source": [
    "\n",
    "x = 5\n",
    "print(x)\n",
    "\n",
    "y = 'WE ARE learning python with ammar'\n",
    "print(y)\n",
    "x = x+5\n",
    "\n",
    "print(x)\n",
    "\n",
    "print(type(x))\n",
    "print(type(y))\n",
    "# print_type_class\n",
    "\n",
    "fruit_basket = \"Mangoes\"\n",
    "print(fruit_basket)\n"
   ]
  },
  {
   "cell_type": "markdown",
   "id": "559f4695",
   "metadata": {},
   "source": [
    "# 06- Input variables"
   ]
  },
  {
   "cell_type": "code",
   "execution_count": 6,
   "id": "94a67beb",
   "metadata": {},
   "outputs": [
    {
     "name": "stdout",
     "output_type": "stream",
     "text": [
      "Mangoes\n"
     ]
    }
   ],
   "source": [
    "fruit_basket = \"Mangoes\"\n",
    "print(fruit_basket)"
   ]
  },
  {
   "cell_type": "code",
   "execution_count": 7,
   "id": "6a4b24f5",
   "metadata": {},
   "outputs": [
    {
     "name": "stdout",
     "output_type": "stream",
     "text": [
      "Which is your favourite fruit: grapes\n",
      "your fav_fruit is:  grapes\n"
     ]
    }
   ],
   "source": [
    "fav_fruit=input('Which is your favourite fruit: ')\n",
    "greetings='your fav_fruit is: '\n",
    "print(greetings,fav_fruit)"
   ]
  },
  {
   "cell_type": "markdown",
   "id": "4be07a18",
   "metadata": {},
   "source": [
    "**Another way of stage 2 input function**"
   ]
  },
  {
   "cell_type": "code",
   "execution_count": 8,
   "id": "daac5a17",
   "metadata": {},
   "outputs": [
    {
     "name": "stdout",
     "output_type": "stream",
     "text": [
      "What is your nameWaqas Ahmed Khawaja\n",
      "What is your age32\n",
      "Hello Mr/Ms. Waqas Ahmed Khawaja you are 32 years old\n"
     ]
    }
   ],
   "source": [
    "name = input(\"What is your name\")\n",
    "greetings ='Hello Mr/Ms.'\n",
    "# print(greetings,name)\n",
    "# 3rd stage input function\n",
    "age=int(input('What is your age'))\n",
    "print(greetings,name,'you are',age,'years old')\n",
    "# input_aammar_you are still young"
   ]
  },
  {
   "cell_type": "markdown",
   "id": "b656b855",
   "metadata": {},
   "source": [
    "# **07 - conditional logic**"
   ]
  },
  {
   "cell_type": "markdown",
   "id": "ab7c0966",
   "metadata": {},
   "source": [
    "**== , < , > , <= , >= , && , ||**"
   ]
  },
  {
   "cell_type": "code",
   "execution_count": 9,
   "id": "70fdff09",
   "metadata": {},
   "outputs": [
    {
     "name": "stdout",
     "output_type": "stream",
     "text": [
      "True\n",
      "False\n",
      "False\n",
      "True\n",
      "False\n",
      "True\n"
     ]
    }
   ],
   "source": [
    "print(4==4)\n",
    "print(4!=4)\n",
    "print(5<4)\n",
    "print(4>3)\n",
    "print(5<=4)\n",
    "print(4>=3)"
   ]
  },
  {
   "cell_type": "markdown",
   "id": "8977b220",
   "metadata": {},
   "source": [
    "**application of logical operators**"
   ]
  },
  {
   "cell_type": "code",
   "execution_count": 10,
   "id": "d4ff59be",
   "metadata": {},
   "outputs": [
    {
     "name": "stdout",
     "output_type": "stream",
     "text": [
      "False\n"
     ]
    }
   ],
   "source": [
    "mustafa_age=4\n",
    "school_age = 5\n",
    "\n",
    "print(mustafa_age==school_age)"
   ]
  },
  {
   "cell_type": "markdown",
   "id": "5bab74dd",
   "metadata": {},
   "source": [
    "**input function and logic operator**"
   ]
  },
  {
   "cell_type": "code",
   "execution_count": 11,
   "id": "ac874363",
   "metadata": {},
   "outputs": [
    {
     "name": "stdout",
     "output_type": "stream",
     "text": [
      "How old is Mustafa?5\n",
      "can Mustafa go school?  True\n"
     ]
    }
   ],
   "source": [
    "mustafa_age=input(\"How old is Mustafa?\")\n",
    "school_age = 5\n",
    "\n",
    "print(\"can Mustafa go school? \",int(mustafa_age)==school_age)"
   ]
  },
  {
   "cell_type": "markdown",
   "id": "5702ff66",
   "metadata": {},
   "source": [
    "# **08 - type conversion**"
   ]
  },
  {
   "cell_type": "code",
   "execution_count": 12,
   "id": "5f44b792",
   "metadata": {},
   "outputs": [
    {
     "name": "stdout",
     "output_type": "stream",
     "text": [
      "Enter your age:32\n",
      "32 <class 'str'>\n",
      "32 <class 'int'>\n"
     ]
    }
   ],
   "source": [
    "# implicit conversion\n",
    "# x=1\n",
    "# y=1.2\n",
    "# z=\"hello\"\n",
    "# print(type(x))\n",
    "# x=x*y\n",
    "# print(type(x))\n",
    "# x=1*z\n",
    "# print(type(x))\n",
    "# print(type(y))\n",
    "# print()\n",
    "# print(type(z))\n",
    "\n",
    "# explicit type conversion\n",
    "age = input(\"Enter your age:\")\n",
    "print(age,type(age))\n",
    "age = int(age)\n",
    "print(age,type(age))\n",
    "\n",
    "# type conversion"
   ]
  },
  {
   "cell_type": "markdown",
   "id": "763bb455",
   "metadata": {},
   "source": [
    "# **09 - ifelifelse statement**"
   ]
  },
  {
   "cell_type": "code",
   "execution_count": 13,
   "id": "ad2834f3",
   "metadata": {},
   "outputs": [
    {
     "name": "stdout",
     "output_type": "stream",
     "text": [
      "Please provide Mutafa age:5\n",
      "This year he can go school congrats!\n"
     ]
    }
   ],
   "source": [
    "school_age=5\n",
    "\n",
    "mustafa_age=int(input(\"Please provide Mutafa age:\"))\n",
    "\n",
    "if mustafa_age==0:\n",
    "    print(\"before going to school he needs be geborn.\")\n",
    "elif mustafa_age<school_age:\n",
    "    print(\"he can not go school yet but after\",school_age-mustafa_age,\"years\")\n",
    "elif mustafa_age==school_age:\n",
    "    print(\"This year he can go school congrats!\")\n",
    "else :\n",
    "    print(\"you need to report geminde first\")\n",
    "    \n",
    "# if elif Else statement clear."
   ]
  },
  {
   "cell_type": "markdown",
   "id": "35f40e96",
   "metadata": {},
   "source": [
    "# **10 - functions**"
   ]
  },
  {
   "cell_type": "markdown",
   "id": "3c9eea66",
   "metadata": {},
   "source": [
    "**defining a function**"
   ]
  },
  {
   "cell_type": "code",
   "execution_count": 14,
   "id": "9c4d40ee",
   "metadata": {},
   "outputs": [],
   "source": [
    "def print_5(x):\n",
    "    print(x)\n",
    "    print(x)\n",
    "    print(x)\n",
    "    print(x)\n",
    "    print(x)"
   ]
  },
  {
   "cell_type": "code",
   "execution_count": 15,
   "id": "64f4ac74",
   "metadata": {},
   "outputs": [
    {
     "name": "stdout",
     "output_type": "stream",
     "text": [
      "Hello Waqas Ahmed Khawja\n",
      "Hello Waqas Ahmed Khawja\n",
      "Hello Waqas Ahmed Khawja\n",
      "Hello Waqas Ahmed Khawja\n",
      "Hello Waqas Ahmed Khawja\n"
     ]
    }
   ],
   "source": [
    "print_5(\"Hello Waqas Ahmed Khawja\")"
   ]
  },
  {
   "cell_type": "code",
   "execution_count": 16,
   "id": "79580417",
   "metadata": {},
   "outputs": [
    {
     "name": "stdout",
     "output_type": "stream",
     "text": [
      "hello\n",
      "hello\n",
      "hello\n",
      "hello\n",
      "\n"
     ]
    }
   ],
   "source": [
    "def print_4(x):\n",
    "    x=x+'\\n'\n",
    "    print(x*4)\n",
    "\n",
    "print_4(\"hello\")"
   ]
  },
  {
   "cell_type": "markdown",
   "id": "d08b59b8",
   "metadata": {},
   "source": [
    "**defining a fuction with if else elif staements.**"
   ]
  },
  {
   "cell_type": "code",
   "execution_count": 17,
   "id": "9446dae3",
   "metadata": {},
   "outputs": [],
   "source": [
    "def can_go_school(age):\n",
    "    school_age = 5\n",
    "    if age<0:\n",
    "        print(\"before going to school he needs be geborn.\")\n",
    "    elif age<school_age:\n",
    "        print(\"he can not go school yet but after\",school_age-age,\"years\")\n",
    "    elif age==school_age:\n",
    "        print(\"This year he can go school congrats!\")\n",
    "    else :\n",
    "        print(\"you need to report geminde first\")"
   ]
  },
  {
   "cell_type": "code",
   "execution_count": 18,
   "id": "ad31dd43",
   "metadata": {},
   "outputs": [
    {
     "name": "stdout",
     "output_type": "stream",
     "text": [
      "enter age of your child2\n",
      "he can not go school yet but after 3 years\n"
     ]
    }
   ],
   "source": [
    "can_go_school(int(input(\"enter age of your child\")))\n",
    "\n",
    "# i understand functions really well."
   ]
  },
  {
   "cell_type": "markdown",
   "id": "4237b40e",
   "metadata": {},
   "source": [
    "# **11- loops**"
   ]
  },
  {
   "cell_type": "markdown",
   "id": "6d1a69cd",
   "metadata": {},
   "source": [
    "**While loop**"
   ]
  },
  {
   "cell_type": "code",
   "execution_count": 19,
   "id": "7f254d64",
   "metadata": {},
   "outputs": [
    {
     "name": "stdout",
     "output_type": "stream",
     "text": [
      "enter the number2\n",
      "2\n",
      "3\n",
      "4\n",
      "5\n"
     ]
    }
   ],
   "source": [
    "x=int(input(\"enter the number\"))\n",
    "while x<=5:\n",
    "    print(x)\n",
    "    x=x+1"
   ]
  },
  {
   "cell_type": "markdown",
   "id": "ec3815d7",
   "metadata": {},
   "source": [
    "**for loop**"
   ]
  },
  {
   "cell_type": "code",
   "execution_count": 20,
   "id": "e9bed3f9",
   "metadata": {},
   "outputs": [
    {
     "name": "stdout",
     "output_type": "stream",
     "text": [
      "mon\n",
      "tue\n",
      "wed\n",
      "thurs\n",
      "fri\n"
     ]
    }
   ],
   "source": [
    "days=[\"mon\",'tue','wed','thurs','fri']\n",
    "\n",
    "for d in days:\n",
    "    print(d)"
   ]
  }
 ],
 "metadata": {
  "kernelspec": {
   "display_name": "Python 3",
   "language": "python",
   "name": "python3"
  },
  "language_info": {
   "codemirror_mode": {
    "name": "ipython",
    "version": 3
   },
   "file_extension": ".py",
   "mimetype": "text/x-python",
   "name": "python",
   "nbconvert_exporter": "python",
   "pygments_lexer": "ipython3",
   "version": "3.8.8"
  }
 },
 "nbformat": 4,
 "nbformat_minor": 5
}
