{
 "cells": [
  {
   "cell_type": "markdown",
   "id": "988d7078",
   "metadata": {},
   "source": [
    "# Assignment 1"
   ]
  },
  {
   "cell_type": "code",
   "execution_count": 1,
   "id": "e04b89d0",
   "metadata": {},
   "outputs": [
    {
     "ename": "SyntaxError",
     "evalue": "invalid syntax (<ipython-input-1-328b0e4ec8bd>, line 2)",
     "output_type": "error",
     "traceback": [
      "\u001b[1;36m  File \u001b[1;32m\"<ipython-input-1-328b0e4ec8bd>\"\u001b[1;36m, line \u001b[1;32m2\u001b[0m\n\u001b[1;33m    portion_saved = float(input(Enter the percent of your salary to save, as a decimal: )) #.10\u001b[0m\n\u001b[1;37m                                      ^\u001b[0m\n\u001b[1;31mSyntaxError\u001b[0m\u001b[1;31m:\u001b[0m invalid syntax\n"
     ]
    }
   ],
   "source": [
    "annual_salary = int(input('Enter your annual salary: ')) #120000\n",
    "portion_saved = float(input(Enter the percent of your salary to save, as a decimal: )) #.10\n",
    "total_cost = int(input(Enter the cost of your dream home: )) # 1000000\n",
    "Number of months: 183 \n",
    "portion_down_payment = 0.25"
   ]
  },
  {
   "cell_type": "code",
   "execution_count": 2,
   "id": "8bddd0c0",
   "metadata": {},
   "outputs": [
    {
     "name": "stdout",
     "output_type": "stream",
     "text": [
      "5 6\n",
      "6 5\n"
     ]
    }
   ],
   "source": [
    "x=5\n",
    "y=6\n",
    "print(x,y)\n",
    "x,y = (y,x)\n",
    "print(x,y)"
   ]
  },
  {
   "cell_type": "code",
   "execution_count": null,
   "id": "a18d5994",
   "metadata": {},
   "outputs": [],
   "source": []
  }
 ],
 "metadata": {
  "kernelspec": {
   "display_name": "Python 3",
   "language": "python",
   "name": "python3"
  },
  "language_info": {
   "codemirror_mode": {
    "name": "ipython",
    "version": 3
   },
   "file_extension": ".py",
   "mimetype": "text/x-python",
   "name": "python",
   "nbconvert_exporter": "python",
   "pygments_lexer": "ipython3",
   "version": "3.8.8"
  }
 },
 "nbformat": 4,
 "nbformat_minor": 5
}
