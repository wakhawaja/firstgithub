{
 "cells": [
  {
   "cell_type": "markdown",
   "id": "6cb4b7e5",
   "metadata": {},
   "source": [
    "# Day 3"
   ]
  },
  {
   "cell_type": "markdown",
   "id": "28268b80",
   "metadata": {},
   "source": [
    "## - indexing"
   ]
  },
  {
   "cell_type": "markdown",
   "id": "09be3e96",
   "metadata": {},
   "source": [
    "**make a string**"
   ]
  },
  {
   "cell_type": "code",
   "execution_count": 1,
   "id": "a075fd35",
   "metadata": {},
   "outputs": [],
   "source": [
    "a = 'samosa pakora'"
   ]
  },
  {
   "cell_type": "code",
   "execution_count": 2,
   "id": "331ca9f1",
   "metadata": {},
   "outputs": [
    {
     "data": {
      "text/plain": [
       "13"
      ]
     },
     "execution_count": 2,
     "metadata": {},
     "output_type": "execute_result"
    }
   ],
   "source": [
    "len(a)"
   ]
  },
  {
   "cell_type": "code",
   "execution_count": 3,
   "id": "f16778f6",
   "metadata": {},
   "outputs": [
    {
     "data": {
      "text/plain": [
       "'s'"
      ]
     },
     "execution_count": 3,
     "metadata": {},
     "output_type": "execute_result"
    }
   ],
   "source": [
    "a[0]"
   ]
  },
  {
   "cell_type": "code",
   "execution_count": 4,
   "id": "d33a5c49",
   "metadata": {},
   "outputs": [
    {
     "data": {
      "text/plain": [
       "'a'"
      ]
     },
     "execution_count": 4,
     "metadata": {},
     "output_type": "execute_result"
    }
   ],
   "source": [
    "a[12]"
   ]
  },
  {
   "cell_type": "code",
   "execution_count": 5,
   "id": "4da19d71",
   "metadata": {},
   "outputs": [
    {
     "data": {
      "text/plain": [
       "'samosa'"
      ]
     },
     "execution_count": 5,
     "metadata": {},
     "output_type": "execute_result"
    }
   ],
   "source": [
    "a[0:6]"
   ]
  },
  {
   "cell_type": "code",
   "execution_count": 6,
   "id": "f514e1cc",
   "metadata": {},
   "outputs": [
    {
     "data": {
      "text/plain": [
       "'pakor'"
      ]
     },
     "execution_count": 6,
     "metadata": {},
     "output_type": "execute_result"
    }
   ],
   "source": [
    "a[-6:-1]"
   ]
  },
  {
   "cell_type": "markdown",
   "id": "c439e5c2",
   "metadata": {},
   "source": [
    "**String Methods**"
   ]
  },
  {
   "cell_type": "code",
   "execution_count": 7,
   "id": "5bf6a6cd",
   "metadata": {},
   "outputs": [],
   "source": [
    "food ='Biryani'"
   ]
  },
  {
   "cell_type": "code",
   "execution_count": 8,
   "id": "3116127c",
   "metadata": {},
   "outputs": [
    {
     "data": {
      "text/plain": [
       "7"
      ]
     },
     "execution_count": 8,
     "metadata": {},
     "output_type": "execute_result"
    }
   ],
   "source": [
    "len(food)"
   ]
  },
  {
   "cell_type": "code",
   "execution_count": 9,
   "id": "11a5728f",
   "metadata": {},
   "outputs": [
    {
     "data": {
      "text/plain": [
       "'biryani'"
      ]
     },
     "execution_count": 9,
     "metadata": {},
     "output_type": "execute_result"
    }
   ],
   "source": [
    "food.lower()"
   ]
  },
  {
   "cell_type": "code",
   "execution_count": 10,
   "id": "9c322685",
   "metadata": {},
   "outputs": [
    {
     "data": {
      "text/plain": [
       "'BIRYANI'"
      ]
     },
     "execution_count": 10,
     "metadata": {},
     "output_type": "execute_result"
    }
   ],
   "source": [
    "food.upper()"
   ]
  },
  {
   "cell_type": "code",
   "execution_count": 11,
   "id": "7a973957",
   "metadata": {},
   "outputs": [
    {
     "data": {
      "text/plain": [
       "'Biryani'"
      ]
     },
     "execution_count": 11,
     "metadata": {},
     "output_type": "execute_result"
    }
   ],
   "source": [
    "food.capitalize()"
   ]
  },
  {
   "cell_type": "code",
   "execution_count": 12,
   "id": "0da1ddf7",
   "metadata": {},
   "outputs": [
    {
     "data": {
      "text/plain": [
       "'Bi shiryaniryani shiryani'"
      ]
     },
     "execution_count": 12,
     "metadata": {},
     "output_type": "execute_result"
    }
   ],
   "source": [
    "food.replace('i','i shiryani')"
   ]
  },
  {
   "cell_type": "code",
   "execution_count": 13,
   "id": "0b97bd20",
   "metadata": {},
   "outputs": [],
   "source": [
    "name=\"Waqas Ahmed Khawaja\""
   ]
  },
  {
   "cell_type": "code",
   "execution_count": 14,
   "id": "702b071e",
   "metadata": {},
   "outputs": [],
   "source": [
    "name = name.lower()\n",
    "\n",
    "words_count = dict()\n",
    "COUNT=1\n",
    "for word in name:\n",
    "    if word in words_count:\n",
    "        words_count[word] = words_count[word]+COUNT        \n",
    "    else:\n",
    "        words_count[word] = COUNT"
   ]
  },
  {
   "cell_type": "code",
   "execution_count": 15,
   "id": "64ea763c",
   "metadata": {},
   "outputs": [
    {
     "data": {
      "text/plain": [
       "{'w': 2,\n",
       " 'a': 6,\n",
       " 'q': 1,\n",
       " 's': 1,\n",
       " ' ': 2,\n",
       " 'h': 2,\n",
       " 'm': 1,\n",
       " 'e': 1,\n",
       " 'd': 1,\n",
       " 'k': 1,\n",
       " 'j': 1}"
      ]
     },
     "execution_count": 15,
     "metadata": {},
     "output_type": "execute_result"
    }
   ],
   "source": [
    "words_count"
   ]
  },
  {
   "cell_type": "markdown",
   "id": "29cdcba9",
   "metadata": {},
   "source": [
    "### finding an index number in string"
   ]
  },
  {
   "cell_type": "code",
   "execution_count": 16,
   "id": "81ff843c",
   "metadata": {},
   "outputs": [],
   "source": [
    "name ='My name is Waqas Ahmed Khawaja.'"
   ]
  },
  {
   "cell_type": "code",
   "execution_count": 17,
   "id": "2d8fad14",
   "metadata": {},
   "outputs": [
    {
     "data": {
      "text/plain": [
       "6"
      ]
     },
     "execution_count": 17,
     "metadata": {},
     "output_type": "execute_result"
    }
   ],
   "source": [
    "name.count('a')"
   ]
  },
  {
   "cell_type": "code",
   "execution_count": 18,
   "id": "1fc00315",
   "metadata": {},
   "outputs": [
    {
     "data": {
      "text/plain": [
       "30"
      ]
     },
     "execution_count": 18,
     "metadata": {},
     "output_type": "execute_result"
    }
   ],
   "source": [
    "name.find('.')"
   ]
  },
  {
   "cell_type": "code",
   "execution_count": 19,
   "id": "51db011f",
   "metadata": {},
   "outputs": [
    {
     "data": {
      "text/plain": [
       "['My', 'name', 'is', 'Waqas', 'Ahmed', 'Khawaja.']"
      ]
     },
     "execution_count": 19,
     "metadata": {},
     "output_type": "execute_result"
    }
   ],
   "source": [
    "name.split()"
   ]
  },
  {
   "cell_type": "markdown",
   "id": "6c409c63",
   "metadata": {},
   "source": [
    "## - Basic DataStructures in python"
   ]
  },
  {
   "cell_type": "markdown",
   "id": "9ca24adc",
   "metadata": {},
   "source": [
    "## 1- tuples   2- List 3- Dictonaries    4- Sets"
   ]
  },
  {
   "cell_type": "markdown",
   "id": "9192a3ff",
   "metadata": {},
   "source": [
    "**- tuples**\n",
    "- ordered collection of elements\n",
    "- enclosed in () round brackets/parantesis\n",
    "- different kind of elements can be stored\n",
    "- un-mutable once intiallized cant be changed"
   ]
  },
  {
   "cell_type": "code",
   "execution_count": 20,
   "id": "66498386",
   "metadata": {},
   "outputs": [],
   "source": [
    "tup1 = (1,True,1.2,'s','python')"
   ]
  },
  {
   "cell_type": "code",
   "execution_count": 21,
   "id": "ae2ff5b2",
   "metadata": {},
   "outputs": [
    {
     "data": {
      "text/plain": [
       "(1, True, 1.2, 's', 'python')"
      ]
     },
     "execution_count": 21,
     "metadata": {},
     "output_type": "execute_result"
    }
   ],
   "source": [
    "tup1"
   ]
  },
  {
   "cell_type": "code",
   "execution_count": 22,
   "id": "b661987c",
   "metadata": {},
   "outputs": [
    {
     "data": {
      "text/plain": [
       "int"
      ]
     },
     "execution_count": 22,
     "metadata": {},
     "output_type": "execute_result"
    }
   ],
   "source": [
    "type(tup1[0])"
   ]
  },
  {
   "cell_type": "code",
   "execution_count": 23,
   "id": "e13100df",
   "metadata": {},
   "outputs": [
    {
     "data": {
      "text/plain": [
       "tuple"
      ]
     },
     "execution_count": 23,
     "metadata": {},
     "output_type": "execute_result"
    }
   ],
   "source": [
    "type(tup1)"
   ]
  },
  {
   "cell_type": "code",
   "execution_count": 24,
   "id": "073b5295",
   "metadata": {},
   "outputs": [
    {
     "data": {
      "text/plain": [
       "tuple"
      ]
     },
     "execution_count": 24,
     "metadata": {},
     "output_type": "execute_result"
    }
   ],
   "source": [
    "type((1,2,3,4))"
   ]
  },
  {
   "cell_type": "markdown",
   "id": "674b69f7",
   "metadata": {},
   "source": [
    "### - indexing in tuple"
   ]
  },
  {
   "cell_type": "code",
   "execution_count": 25,
   "id": "ef8ae57d",
   "metadata": {},
   "outputs": [
    {
     "data": {
      "text/plain": [
       "(1, True)"
      ]
     },
     "execution_count": 25,
     "metadata": {},
     "output_type": "execute_result"
    }
   ],
   "source": [
    "tup1[0:2]"
   ]
  },
  {
   "cell_type": "code",
   "execution_count": 26,
   "id": "3e956d70",
   "metadata": {},
   "outputs": [],
   "source": [
    "tup2 =('a','u','i','o','e')"
   ]
  },
  {
   "cell_type": "code",
   "execution_count": 27,
   "id": "77348d93",
   "metadata": {},
   "outputs": [
    {
     "data": {
      "text/plain": [
       "('a', 'u', 'i', 'o', 'e')"
      ]
     },
     "execution_count": 27,
     "metadata": {},
     "output_type": "execute_result"
    }
   ],
   "source": [
    "tup2"
   ]
  },
  {
   "cell_type": "code",
   "execution_count": 28,
   "id": "8af0f69f",
   "metadata": {},
   "outputs": [],
   "source": [
    "set1=set(tup2)"
   ]
  },
  {
   "cell_type": "code",
   "execution_count": 29,
   "id": "89ddf289",
   "metadata": {},
   "outputs": [
    {
     "data": {
      "text/plain": [
       "{'a', 'e', 'i', 'o', 'u'}"
      ]
     },
     "execution_count": 29,
     "metadata": {},
     "output_type": "execute_result"
    }
   ],
   "source": [
    "set1"
   ]
  },
  {
   "cell_type": "code",
   "execution_count": 30,
   "id": "ac8af0ee",
   "metadata": {},
   "outputs": [
    {
     "data": {
      "text/plain": [
       "5"
      ]
     },
     "execution_count": 30,
     "metadata": {},
     "output_type": "execute_result"
    }
   ],
   "source": [
    "len(tup1)"
   ]
  },
  {
   "cell_type": "code",
   "execution_count": 31,
   "id": "3b022b74",
   "metadata": {},
   "outputs": [
    {
     "data": {
      "text/plain": [
       "5"
      ]
     },
     "execution_count": 31,
     "metadata": {},
     "output_type": "execute_result"
    }
   ],
   "source": [
    "len(tup2)"
   ]
  },
  {
   "cell_type": "code",
   "execution_count": 32,
   "id": "ed0d1ac7",
   "metadata": {},
   "outputs": [
    {
     "data": {
      "text/plain": [
       "5"
      ]
     },
     "execution_count": 32,
     "metadata": {},
     "output_type": "execute_result"
    }
   ],
   "source": [
    "len(set1)"
   ]
  },
  {
   "cell_type": "markdown",
   "id": "90163842",
   "metadata": {},
   "source": [
    "**Tuple concatination '+'**"
   ]
  },
  {
   "cell_type": "code",
   "execution_count": 33,
   "id": "57ae853b",
   "metadata": {},
   "outputs": [],
   "source": [
    "tup3=tup1+tup2"
   ]
  },
  {
   "cell_type": "code",
   "execution_count": 34,
   "id": "249527a9",
   "metadata": {},
   "outputs": [
    {
     "data": {
      "text/plain": [
       "(1, True, 1.2, 's', 'python', 'a', 'u', 'i', 'o', 'e')"
      ]
     },
     "execution_count": 34,
     "metadata": {},
     "output_type": "execute_result"
    }
   ],
   "source": [
    "tup3"
   ]
  },
  {
   "cell_type": "code",
   "execution_count": 35,
   "id": "f349e44c",
   "metadata": {},
   "outputs": [],
   "source": [
    "set2=set(tup3)"
   ]
  },
  {
   "cell_type": "code",
   "execution_count": 36,
   "id": "5abf7243",
   "metadata": {},
   "outputs": [
    {
     "data": {
      "text/plain": [
       "{1, 1.2, 'a', 'e', 'i', 'o', 'python', 's', 'u'}"
      ]
     },
     "execution_count": 36,
     "metadata": {},
     "output_type": "execute_result"
    }
   ],
   "source": [
    "set2"
   ]
  },
  {
   "cell_type": "code",
   "execution_count": 43,
   "id": "2721d447",
   "metadata": {},
   "outputs": [
    {
     "ename": "TypeError",
     "evalue": "can only concatenate tuple (not \"int\") to tuple",
     "output_type": "error",
     "traceback": [
      "\u001b[1;31m---------------------------------------------------------------------------\u001b[0m",
      "\u001b[1;31mTypeError\u001b[0m                                 Traceback (most recent call last)",
      "\u001b[1;32m<ipython-input-43-ab2fc6e1bccf>\u001b[0m in \u001b[0;36m<module>\u001b[1;34m\u001b[0m\n\u001b[1;32m----> 1\u001b[1;33m \u001b[0mtup1\u001b[0m\u001b[1;33m+\u001b[0m\u001b[1;36m2\u001b[0m\u001b[1;33m\u001b[0m\u001b[1;33m\u001b[0m\u001b[0m\n\u001b[0m",
      "\u001b[1;31mTypeError\u001b[0m: can only concatenate tuple (not \"int\") to tuple"
     ]
    }
   ],
   "source": [
    "tup1+2"
   ]
  },
  {
   "cell_type": "markdown",
   "id": "0e51c32a",
   "metadata": {},
   "source": [
    "------------------"
   ]
  },
  {
   "cell_type": "markdown",
   "id": "c3b28669",
   "metadata": {},
   "source": [
    "**Tuple Multiplication**"
   ]
  },
  {
   "cell_type": "code",
   "execution_count": 37,
   "id": "6cf377d6",
   "metadata": {},
   "outputs": [
    {
     "data": {
      "text/plain": [
       "(1, True, 1.2, 's', 'python')"
      ]
     },
     "execution_count": 37,
     "metadata": {},
     "output_type": "execute_result"
    }
   ],
   "source": [
    "tup1"
   ]
  },
  {
   "cell_type": "code",
   "execution_count": 38,
   "id": "71d66bab",
   "metadata": {},
   "outputs": [
    {
     "data": {
      "text/plain": [
       "('a', 'u', 'i', 'o', 'e')"
      ]
     },
     "execution_count": 38,
     "metadata": {},
     "output_type": "execute_result"
    }
   ],
   "source": [
    "tup2"
   ]
  },
  {
   "cell_type": "code",
   "execution_count": 40,
   "id": "0f02341c",
   "metadata": {},
   "outputs": [
    {
     "data": {
      "text/plain": [
       "(1, True, 1.2, 's', 'python', 'a', 'u', 'i', 'o', 'e')"
      ]
     },
     "execution_count": 40,
     "metadata": {},
     "output_type": "execute_result"
    }
   ],
   "source": [
    "tup3 #tup1+tup2"
   ]
  },
  {
   "cell_type": "code",
   "execution_count": 42,
   "id": "4e2b834e",
   "metadata": {},
   "outputs": [
    {
     "data": {
      "text/plain": [
       "(1, True, 1.2, 's', 'python', 1, True, 1.2, 's', 'python')"
      ]
     },
     "execution_count": 42,
     "metadata": {},
     "output_type": "execute_result"
    }
   ],
   "source": [
    "tup1*2 #replicates tupple"
   ]
  },
  {
   "cell_type": "code",
   "execution_count": 44,
   "id": "4dadb9fe",
   "metadata": {},
   "outputs": [
    {
     "ename": "TypeError",
     "evalue": "unsupported operand type(s) for -: 'tuple' and 'tuple'",
     "output_type": "error",
     "traceback": [
      "\u001b[1;31m---------------------------------------------------------------------------\u001b[0m",
      "\u001b[1;31mTypeError\u001b[0m                                 Traceback (most recent call last)",
      "\u001b[1;32m<ipython-input-44-dbd0df25cf74>\u001b[0m in \u001b[0;36m<module>\u001b[1;34m\u001b[0m\n\u001b[1;32m----> 1\u001b[1;33m \u001b[0mtup4\u001b[0m\u001b[1;33m=\u001b[0m\u001b[0mtup1\u001b[0m\u001b[1;33m-\u001b[0m\u001b[0mtup1\u001b[0m\u001b[1;33m\u001b[0m\u001b[1;33m\u001b[0m\u001b[0m\n\u001b[0m",
      "\u001b[1;31mTypeError\u001b[0m: unsupported operand type(s) for -: 'tuple' and 'tuple'"
     ]
    }
   ],
   "source": [
    "tup4=tup1-tup1"
   ]
  },
  {
   "cell_type": "code",
   "execution_count": 45,
   "id": "85250a8d",
   "metadata": {},
   "outputs": [
    {
     "ename": "TypeError",
     "evalue": "unsupported operand type(s) for /: 'tuple' and 'int'",
     "output_type": "error",
     "traceback": [
      "\u001b[1;31m---------------------------------------------------------------------------\u001b[0m",
      "\u001b[1;31mTypeError\u001b[0m                                 Traceback (most recent call last)",
      "\u001b[1;32m<ipython-input-45-59fe84007bc9>\u001b[0m in \u001b[0;36m<module>\u001b[1;34m\u001b[0m\n\u001b[1;32m----> 1\u001b[1;33m \u001b[0mtup4\u001b[0m \u001b[1;33m=\u001b[0m \u001b[0mtup1\u001b[0m\u001b[1;33m/\u001b[0m\u001b[1;36m1\u001b[0m\u001b[1;33m\u001b[0m\u001b[1;33m\u001b[0m\u001b[0m\n\u001b[0m",
      "\u001b[1;31mTypeError\u001b[0m: unsupported operand type(s) for /: 'tuple' and 'int'"
     ]
    }
   ],
   "source": [
    "tup4 = tup1/1"
   ]
  },
  {
   "cell_type": "markdown",
   "id": "7969f8c3",
   "metadata": {},
   "source": [
    "---"
   ]
  },
  {
   "cell_type": "markdown",
   "id": "a1889635",
   "metadata": {},
   "source": [
    "### -2 Lists"
   ]
  },
  {
   "cell_type": "markdown",
   "id": "d116a572",
   "metadata": {},
   "source": [
    "- Ordered collection of elements\n",
    "- enclosed in [] square brackets\n",
    "- mutateable"
   ]
  },
  {
   "cell_type": "code",
   "execution_count": 47,
   "id": "56a1637e",
   "metadata": {},
   "outputs": [
    {
     "data": {
      "text/plain": [
       "[1, True, 1.2, 's', 'python']"
      ]
     },
     "execution_count": 47,
     "metadata": {},
     "output_type": "execute_result"
    }
   ],
   "source": [
    "list1 = list(tup1)\n",
    "list1"
   ]
  },
  {
   "cell_type": "code",
   "execution_count": 48,
   "id": "382d2dff",
   "metadata": {},
   "outputs": [
    {
     "data": {
      "text/plain": [
       "list"
      ]
     },
     "execution_count": 48,
     "metadata": {},
     "output_type": "execute_result"
    }
   ],
   "source": [
    "type(list1)"
   ]
  },
  {
   "cell_type": "code",
   "execution_count": 49,
   "id": "af0efa3a",
   "metadata": {},
   "outputs": [
    {
     "data": {
      "text/plain": [
       "5"
      ]
     },
     "execution_count": 49,
     "metadata": {},
     "output_type": "execute_result"
    }
   ],
   "source": [
    "len(list1)"
   ]
  },
  {
   "cell_type": "code",
   "execution_count": 51,
   "id": "5867c46e",
   "metadata": {},
   "outputs": [
    {
     "data": {
      "text/plain": [
       "1"
      ]
     },
     "execution_count": 51,
     "metadata": {},
     "output_type": "execute_result"
    }
   ],
   "source": [
    "list1[0]"
   ]
  },
  {
   "cell_type": "code",
   "execution_count": 54,
   "id": "0cd923fe",
   "metadata": {},
   "outputs": [],
   "source": [
    "list2 = [3,5,'Waqas','Taywas',478,53.2,1==1]"
   ]
  },
  {
   "cell_type": "code",
   "execution_count": 55,
   "id": "a2afb48e",
   "metadata": {},
   "outputs": [
    {
     "data": {
      "text/plain": [
       "[3, 5, 'Waqas', 'Taywas', 478, 53.2, True]"
      ]
     },
     "execution_count": 55,
     "metadata": {},
     "output_type": "execute_result"
    }
   ],
   "source": [
    "list2"
   ]
  },
  {
   "cell_type": "code",
   "execution_count": 56,
   "id": "2af5cb5b",
   "metadata": {},
   "outputs": [
    {
     "data": {
      "text/plain": [
       "[1, True, 1.2, 's', 'python', 1, True, 1.2, 's', 'python']"
      ]
     },
     "execution_count": 56,
     "metadata": {},
     "output_type": "execute_result"
    }
   ],
   "source": [
    "list1*2"
   ]
  },
  {
   "cell_type": "code",
   "execution_count": 57,
   "id": "5e43ba7c",
   "metadata": {},
   "outputs": [],
   "source": [
    "list1.reverse()"
   ]
  },
  {
   "cell_type": "code",
   "execution_count": 58,
   "id": "fc3b0515",
   "metadata": {},
   "outputs": [
    {
     "data": {
      "text/plain": [
       "['python', 's', 1.2, True, 1]"
      ]
     },
     "execution_count": 58,
     "metadata": {},
     "output_type": "execute_result"
    }
   ],
   "source": [
    "list1"
   ]
  },
  {
   "cell_type": "code",
   "execution_count": 61,
   "id": "71614067",
   "metadata": {},
   "outputs": [
    {
     "data": {
      "text/plain": [
       "2"
      ]
     },
     "execution_count": 61,
     "metadata": {},
     "output_type": "execute_result"
    }
   ],
   "source": [
    "list1.count(1)"
   ]
  },
  {
   "cell_type": "code",
   "execution_count": 63,
   "id": "30570daf",
   "metadata": {},
   "outputs": [],
   "source": [
    "list1.append(\"\"\"My name is Waqas Ahmed Khawaja\n",
    "                From Gujranwala Pakistan.\"\"\")"
   ]
  },
  {
   "cell_type": "code",
   "execution_count": 65,
   "id": "e4cc91f2",
   "metadata": {},
   "outputs": [
    {
     "data": {
      "text/plain": [
       "['python',\n",
       " 's',\n",
       " 1.2,\n",
       " True,\n",
       " 1,\n",
       " 'My name is Waqas Ahmed Khawaja\\n                From Gujranwala Pakistan.']"
      ]
     },
     "execution_count": 65,
     "metadata": {},
     "output_type": "execute_result"
    }
   ],
   "source": [
    "list1"
   ]
  },
  {
   "cell_type": "code",
   "execution_count": 66,
   "id": "91548c2a",
   "metadata": {},
   "outputs": [],
   "source": [
    "list3=[50,45,40,35,25,20,10,5,0,-5]"
   ]
  },
  {
   "cell_type": "code",
   "execution_count": 67,
   "id": "05eee80a",
   "metadata": {},
   "outputs": [
    {
     "data": {
      "text/plain": [
       "[50, 45, 40, 35, 25, 20, 10, 5, 0, -5]"
      ]
     },
     "execution_count": 67,
     "metadata": {},
     "output_type": "execute_result"
    }
   ],
   "source": [
    "list3"
   ]
  },
  {
   "cell_type": "code",
   "execution_count": 69,
   "id": "1c85d8f2",
   "metadata": {},
   "outputs": [
    {
     "data": {
      "text/plain": [
       "10"
      ]
     },
     "execution_count": 69,
     "metadata": {},
     "output_type": "execute_result"
    }
   ],
   "source": [
    "len(list3)"
   ]
  },
  {
   "cell_type": "code",
   "execution_count": 70,
   "id": "87b2e8f0",
   "metadata": {},
   "outputs": [],
   "source": [
    "list3.sort()"
   ]
  },
  {
   "cell_type": "code",
   "execution_count": 71,
   "id": "4310e21b",
   "metadata": {},
   "outputs": [
    {
     "data": {
      "text/plain": [
       "[-5, 0, 5, 10, 20, 25, 35, 40, 45, 50]"
      ]
     },
     "execution_count": 71,
     "metadata": {},
     "output_type": "execute_result"
    }
   ],
   "source": [
    "list3"
   ]
  },
  {
   "cell_type": "code",
   "execution_count": 73,
   "id": "efb91755",
   "metadata": {},
   "outputs": [
    {
     "data": {
      "text/plain": [
       "[-5,\n",
       " 0,\n",
       " 5,\n",
       " 10,\n",
       " 20,\n",
       " 25,\n",
       " 35,\n",
       " 40,\n",
       " 45,\n",
       " 50,\n",
       " -5,\n",
       " 0,\n",
       " 5,\n",
       " 10,\n",
       " 20,\n",
       " 25,\n",
       " 35,\n",
       " 40,\n",
       " 45,\n",
       " 50,\n",
       " -5,\n",
       " 0,\n",
       " 5,\n",
       " 10,\n",
       " 20,\n",
       " 25,\n",
       " 35,\n",
       " 40,\n",
       " 45,\n",
       " 50]"
      ]
     },
     "execution_count": 73,
     "metadata": {},
     "output_type": "execute_result"
    }
   ],
   "source": [
    "list3*3"
   ]
  },
  {
   "cell_type": "markdown",
   "id": "49d45595",
   "metadata": {},
   "source": [
    "---"
   ]
  },
  {
   "cell_type": "markdown",
   "id": "c1f8f785",
   "metadata": {},
   "source": [
    "### Dictionaries"
   ]
  },
  {
   "cell_type": "markdown",
   "id": "3c9e8c99",
   "metadata": {},
   "source": [
    "- unordered set of elements\n",
    "- Key value pair\n",
    "- {key:value} curly braces or brackets\n",
    "- mutatebale (values can change)"
   ]
  },
  {
   "cell_type": "code",
   "execution_count": 79,
   "id": "1d746beb",
   "metadata": {},
   "outputs": [],
   "source": [
    "# Food and prices\n",
    "food1 = {'samosa':30,'pakora':100,'raita':10,'salad':50,'chicken rolls':30}"
   ]
  },
  {
   "cell_type": "code",
   "execution_count": 80,
   "id": "dcadce2c",
   "metadata": {},
   "outputs": [
    {
     "data": {
      "text/plain": [
       "{'samosa': 30, 'pakora': 100, 'raita': 10, 'salad': 50, 'chicken rolls': 30}"
      ]
     },
     "execution_count": 80,
     "metadata": {},
     "output_type": "execute_result"
    }
   ],
   "source": [
    "food1"
   ]
  },
  {
   "cell_type": "code",
   "execution_count": 81,
   "id": "8c53342d",
   "metadata": {},
   "outputs": [
    {
     "data": {
      "text/plain": [
       "dict"
      ]
     },
     "execution_count": 81,
     "metadata": {},
     "output_type": "execute_result"
    }
   ],
   "source": [
    "type(food1)"
   ]
  },
  {
   "cell_type": "code",
   "execution_count": 87,
   "id": "7f68837b",
   "metadata": {},
   "outputs": [
    {
     "data": {
      "text/plain": [
       "dict_keys(['samosa', 'pakora', 'raita', 'salad', 'chicken rolls'])"
      ]
     },
     "execution_count": 87,
     "metadata": {},
     "output_type": "execute_result"
    }
   ],
   "source": [
    "# Extract keys\n",
    "keys_food1 = food1.keys()\n",
    "keys_food1"
   ]
  },
  {
   "cell_type": "code",
   "execution_count": 88,
   "id": "faf575dd",
   "metadata": {},
   "outputs": [
    {
     "data": {
      "text/plain": [
       "dict_values([30, 100, 10, 50, 30])"
      ]
     },
     "execution_count": 88,
     "metadata": {},
     "output_type": "execute_result"
    }
   ],
   "source": [
    "# Extract dict values\n",
    "values_food1 = food1.values()\n",
    "values_food1"
   ]
  },
  {
   "cell_type": "code",
   "execution_count": 89,
   "id": "ce07f32f",
   "metadata": {},
   "outputs": [
    {
     "data": {
      "text/plain": [
       "dict_values"
      ]
     },
     "execution_count": 89,
     "metadata": {},
     "output_type": "execute_result"
    }
   ],
   "source": [
    "type(values_food1)"
   ]
  },
  {
   "cell_type": "code",
   "execution_count": 97,
   "id": "90854605",
   "metadata": {},
   "outputs": [
    {
     "data": {
      "text/plain": [
       "dict_values([30, 100, 10, 50, 30, 10])"
      ]
     },
     "execution_count": 97,
     "metadata": {},
     "output_type": "execute_result"
    }
   ],
   "source": [
    "# adding new key,value to food1\n",
    "food1['Tiki'] = 10\n",
    "values_food1"
   ]
  },
  {
   "cell_type": "code",
   "execution_count": 98,
   "id": "80337a7b",
   "metadata": {},
   "outputs": [
    {
     "data": {
      "text/plain": [
       "dict_values([30, 100, 10, 50, 30, 15])"
      ]
     },
     "execution_count": 98,
     "metadata": {},
     "output_type": "execute_result"
    }
   ],
   "source": [
    "# update value\n",
    "food1.update({'Tiki':15})\n",
    "values_food1"
   ]
  },
  {
   "cell_type": "code",
   "execution_count": null,
   "id": "460a26d9",
   "metadata": {},
   "outputs": [],
   "source": []
  }
 ],
 "metadata": {
  "kernelspec": {
   "display_name": "Python 3",
   "language": "python",
   "name": "python3"
  },
  "language_info": {
   "codemirror_mode": {
    "name": "ipython",
    "version": 3
   },
   "file_extension": ".py",
   "mimetype": "text/x-python",
   "name": "python",
   "nbconvert_exporter": "python",
   "pygments_lexer": "ipython3",
   "version": "3.8.8"
  }
 },
 "nbformat": 4,
 "nbformat_minor": 5
}
